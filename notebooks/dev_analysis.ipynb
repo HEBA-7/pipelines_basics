{
 "cells": [
  {
   "cell_type": "markdown",
   "id": "ee27a17e",
   "metadata": {},
   "source": [
    "### Analysis methods"
   ]
  },
  {
   "cell_type": "code",
   "execution_count": 1,
   "id": "da476a26",
   "metadata": {},
   "outputs": [],
   "source": [
    "import pandas as pd"
   ]
  },
  {
   "cell_type": "code",
   "execution_count": 4,
   "id": "41b1ddcf",
   "metadata": {},
   "outputs": [
    {
     "name": "stdout",
     "output_type": "stream",
     "text": [
      "         Make                Model  Year  Engine Displacement  Cylinders  \\\n",
      "0  AM General    DJ Po Vehicle 2WD  1984                  2.5        4.0   \n",
      "1  AM General     FJ8c Post Office  1984                  4.2        6.0   \n",
      "2  AM General  Post Office DJ5 2WD  1985                  2.5        4.0   \n",
      "\n",
      "      Transmission        Drivetrain                Vehicle Class Fuel Type  \\\n",
      "0  Automatic 3-spd     2-Wheel Drive  Special Purpose Vehicle 2WD   Regular   \n",
      "1  Automatic 3-spd     2-Wheel Drive  Special Purpose Vehicle 2WD   Regular   \n",
      "2  Automatic 3-spd  Rear-Wheel Drive  Special Purpose Vehicle 2WD   Regular   \n",
      "\n",
      "   Fuel Barrels/Year  City MPG  Highway MPG  Combined MPG  \\\n",
      "0          19.388824        18           17            17   \n",
      "1          25.354615        13           13            13   \n",
      "2          20.600625        16           17            16   \n",
      "\n",
      "   CO2 Emission Grams/Mile  Fuel Cost/Year  \n",
      "0               522.764706            1950  \n",
      "1               683.615385            2550  \n",
      "2               555.437500            2100  \n"
     ]
    }
   ],
   "source": [
    "df_argument = pd.read_csv('../data/vehicles.csv')\n",
    "print(df_argument.head(3))"
   ]
  },
  {
   "cell_type": "code",
   "execution_count": 5,
   "id": "79f4a486",
   "metadata": {},
   "outputs": [
    {
     "data": {
      "text/plain": [
       "Index(['Make', 'Model', 'Year', 'Engine Displacement', 'Cylinders',\n",
       "       'Transmission', 'Drivetrain', 'Vehicle Class', 'Fuel Type',\n",
       "       'Fuel Barrels/Year', 'City MPG', 'Highway MPG', 'Combined MPG',\n",
       "       'CO2 Emission Grams/Mile', 'Fuel Cost/Year'],\n",
       "      dtype='object')"
      ]
     },
     "execution_count": 5,
     "metadata": {},
     "output_type": "execute_result"
    }
   ],
   "source": [
    "df_argument.columns"
   ]
  },
  {
   "cell_type": "code",
   "execution_count": 6,
   "id": "f29d457c",
   "metadata": {},
   "outputs": [
    {
     "data": {
      "text/plain": [
       "Make\n",
       "AM General                     14.750000\n",
       "ASC Incorporated               16.000000\n",
       "Acura                          21.506623\n",
       "Alfa Romeo                     19.512195\n",
       "American Motors Corporation    17.681818\n",
       "                                 ...    \n",
       "Volkswagen                     24.093601\n",
       "Volvo                          20.605300\n",
       "Wallace Environmental          13.875000\n",
       "Yugo                           25.000000\n",
       "smart                          35.800000\n",
       "Name: Combined MPG, Length: 127, dtype: float64"
      ]
     },
     "execution_count": 6,
     "metadata": {},
     "output_type": "execute_result"
    }
   ],
   "source": [
    "df_analyzed = df_argument.groupby(by=\"Make\")[\"Combined MPG\"].mean()\n",
    "df_analyzed"
   ]
  },
  {
   "cell_type": "code",
   "execution_count": 7,
   "id": "41c3b9e3",
   "metadata": {},
   "outputs": [
    {
     "data": {
      "text/plain": [
       "pandas.core.series.Series"
      ]
     },
     "execution_count": 7,
     "metadata": {},
     "output_type": "execute_result"
    }
   ],
   "source": [
    "type(df_analyzed)"
   ]
  },
  {
   "cell_type": "code",
   "execution_count": 8,
   "id": "b9deebea",
   "metadata": {},
   "outputs": [],
   "source": [
    "df_analyzed.to_csv(\"../data/result.csv\")"
   ]
  },
  {
   "cell_type": "code",
   "execution_count": 10,
   "id": "1f595ef4",
   "metadata": {},
   "outputs": [
    {
     "data": {
      "text/html": [
       "<div>\n",
       "<style scoped>\n",
       "    .dataframe tbody tr th:only-of-type {\n",
       "        vertical-align: middle;\n",
       "    }\n",
       "\n",
       "    .dataframe tbody tr th {\n",
       "        vertical-align: top;\n",
       "    }\n",
       "\n",
       "    .dataframe thead th {\n",
       "        text-align: right;\n",
       "    }\n",
       "</style>\n",
       "<table border=\"1\" class=\"dataframe\">\n",
       "  <thead>\n",
       "    <tr style=\"text-align: right;\">\n",
       "      <th></th>\n",
       "      <th>Combined MPG</th>\n",
       "    </tr>\n",
       "    <tr>\n",
       "      <th>Make</th>\n",
       "      <th></th>\n",
       "    </tr>\n",
       "  </thead>\n",
       "  <tbody>\n",
       "    <tr>\n",
       "      <th>AM General</th>\n",
       "      <td>14.750000</td>\n",
       "    </tr>\n",
       "    <tr>\n",
       "      <th>ASC Incorporated</th>\n",
       "      <td>16.000000</td>\n",
       "    </tr>\n",
       "    <tr>\n",
       "      <th>Acura</th>\n",
       "      <td>21.506623</td>\n",
       "    </tr>\n",
       "    <tr>\n",
       "      <th>Alfa Romeo</th>\n",
       "      <td>19.512195</td>\n",
       "    </tr>\n",
       "    <tr>\n",
       "      <th>American Motors Corporation</th>\n",
       "      <td>17.681818</td>\n",
       "    </tr>\n",
       "    <tr>\n",
       "      <th>...</th>\n",
       "      <td>...</td>\n",
       "    </tr>\n",
       "    <tr>\n",
       "      <th>Volkswagen</th>\n",
       "      <td>24.093601</td>\n",
       "    </tr>\n",
       "    <tr>\n",
       "      <th>Volvo</th>\n",
       "      <td>20.605300</td>\n",
       "    </tr>\n",
       "    <tr>\n",
       "      <th>Wallace Environmental</th>\n",
       "      <td>13.875000</td>\n",
       "    </tr>\n",
       "    <tr>\n",
       "      <th>Yugo</th>\n",
       "      <td>25.000000</td>\n",
       "    </tr>\n",
       "    <tr>\n",
       "      <th>smart</th>\n",
       "      <td>35.800000</td>\n",
       "    </tr>\n",
       "  </tbody>\n",
       "</table>\n",
       "<p>127 rows × 1 columns</p>\n",
       "</div>"
      ],
      "text/plain": [
       "                             Combined MPG\n",
       "Make                                     \n",
       "AM General                      14.750000\n",
       "ASC Incorporated                16.000000\n",
       "Acura                           21.506623\n",
       "Alfa Romeo                      19.512195\n",
       "American Motors Corporation     17.681818\n",
       "...                                   ...\n",
       "Volkswagen                      24.093601\n",
       "Volvo                           20.605300\n",
       "Wallace Environmental           13.875000\n",
       "Yugo                            25.000000\n",
       "smart                           35.800000\n",
       "\n",
       "[127 rows x 1 columns]"
      ]
     },
     "execution_count": 10,
     "metadata": {},
     "output_type": "execute_result"
    }
   ],
   "source": [
    "df_result = pd.read_csv('../data/result.csv', index_col = \"Make\")\n",
    "df_result"
   ]
  },
  {
   "cell_type": "markdown",
   "id": "8223d9f2",
   "metadata": {},
   "source": [
    "### Refactoring"
   ]
  },
  {
   "cell_type": "code",
   "execution_count": 11,
   "id": "23a20004",
   "metadata": {},
   "outputs": [],
   "source": [
    "#ejemplo 1 con el file con la opción de cambiar la ruta para guardar\n",
    "\n",
    "def analysis(df, group, agg, file='../data/result.csv'):\n",
    "    analyzed = df.groupby(by=group)[agg].mean()\n",
    "    analyzed.to_csv(file)\n",
    "    return analyzed"
   ]
  },
  {
   "cell_type": "code",
   "execution_count": 12,
   "id": "aa3818aa",
   "metadata": {},
   "outputs": [],
   "source": [
    "#ejemplo 2 guardado directamente en la función\n",
    "\n",
    "def analysis(df, group, agg):\n",
    "    analyzed = df.groupby(by=group)[agg].mean()\n",
    "    analyzed.to_csv('../data/result.csv')\n",
    "    return \"----The result is in your folder----\""
   ]
  },
  {
   "cell_type": "code",
   "execution_count": null,
   "id": "e5ff5776",
   "metadata": {},
   "outputs": [],
   "source": []
  }
 ],
 "metadata": {
  "kernelspec": {
   "display_name": "Python [conda env:m1_ih]",
   "language": "python",
   "name": "conda-env-m1_ih-py"
  },
  "language_info": {
   "codemirror_mode": {
    "name": "ipython",
    "version": 3
   },
   "file_extension": ".py",
   "mimetype": "text/x-python",
   "name": "python",
   "nbconvert_exporter": "python",
   "pygments_lexer": "ipython3",
   "version": "3.9.12"
  }
 },
 "nbformat": 4,
 "nbformat_minor": 5
}
